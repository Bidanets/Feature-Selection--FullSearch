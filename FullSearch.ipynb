{
 "cells": [
  {
   "cell_type": "code",
   "execution_count": 2,
   "metadata": {},
   "outputs": [
    {
     "data": {
      "image/png": "[encoded data removed]",
      "text/plain": [
       "<matplotlib.figure.Figure at 0x1a139ddef0>"
      ]
     },
     "metadata": {},
     "output_type": "display_data"
    },
    {
     "name": "stdout",
     "output_type": "stream",
     "text": [
      "Best subset:  [1, 2, 3, 4, 5, 8]\n"
     ]
    }
   ],
   "source": [
    "from sklearn import datasets\n",
    "import itertools\n",
    "import numpy as np\n",
    "from sklearn import svm\n",
    "from sklearn.linear_model import LinearRegression\n",
    "import optunity\n",
    "import optunity.metrics\n",
    "import matplotlib.pyplot as plt\n",
    "from sklearn.neural_network import MLPRegressor as mlpr\n",
    "import copy\n",
    "    \n",
    "data = datasets.load_diabetes()\n",
    "X = data.data\n",
    "y = data.target\n",
    "\n",
    "n = X.shape[1]\n",
    "\n",
    "d = 3\n",
    "\n",
    "features = set(np.arange(0, 10))\n",
    "\n",
    "size_of_train_data = int(len(X) * 0.8)\n",
    "size_of_test_data = len(X) - size_of_train_data\n",
    "\n",
    "X_train = X[:size_of_train_data]\n",
    "y_train = y[:size_of_train_data]\n",
    "\n",
    "X_test = X[size_of_train_data:]\n",
    "y_test = y[size_of_train_data:]\n",
    "\n",
    "def Full_Search(X_train, y_train, X_test, y_test):\n",
    "    Q_min = []\n",
    "    \n",
    "    Q_best = 1E9\n",
    "    best_subset = set()\n",
    "    number_of_features_in_best_subset = 4\n",
    "    \n",
    "    for cur_number_of_features in range(1, n+1):\n",
    "        feature_subsets = itertools.combinations(features, cur_number_of_features)\n",
    "        \n",
    "        feature_subsets = list(feature_subsets)\n",
    "        \n",
    "        Q_j = []\n",
    "        \n",
    "        for j in range(len(feature_subsets)):\n",
    "            subset = list(feature_subsets[j])\n",
    "        \n",
    "            model = LinearRegression()\n",
    "        \n",
    "            model.fit(X_train[:, subset], y_train)         \n",
    "            predictions = model.predict(X_test[:, subset])\n",
    "            \n",
    "            cur_Q = optunity.metrics.mse(y_test, predictions)\n",
    "            \n",
    "            if cur_Q < Q_best:\n",
    "                if cur_number_of_features - number_of_features_in_best_subset < d:\n",
    "                    Q_best = copy.deepcopy(cur_Q)\n",
    "                    best_subset = copy.deepcopy(subset)\n",
    "                    number_of_features_in_best_subset = copy.deepcopy(cur_number_of_features)\n",
    "                else:\n",
    "                    best_subset = subset\n",
    "                    return best_subset\n",
    "            \n",
    "            Q_j.append(cur_Q)\n",
    "            \n",
    "       # print(cur_number_of_features)\n",
    "       # print(Q_j)\n",
    "        \n",
    "        plt.plot([cur_number_of_features] * len(Q_j) , Q_j, 'bs', color = 'red', \n",
    "                 markersize = 0.4)\n",
    "            \n",
    "        Q_min.append(min(Q_j))\n",
    "        \n",
    "        \n",
    "    index_of_the_best = Q_min.index(min(Q_min))\n",
    "        \n",
    "    plt.plot(np.arange(1, 11), Q_min, 'ro-', color = 'green', label = 'min Q')\n",
    "    \n",
    "    plt.plot([index_of_the_best+1], Q_min[index_of_the_best], 'ro', \n",
    "             markersize = 8.0,\n",
    "             color = 'blue', label = 'best Q')\n",
    "    \n",
    "    plt.xlabel('Number of features')\n",
    "    plt.ylabel('Q')\n",
    "    plt.title('Fature Selection: FullSearch')   \n",
    "    \n",
    "    plt.legend()\n",
    "    \n",
    "    plt.show()\n",
    "    \n",
    "  #  print(Q_min)\n",
    "    \n",
    "    return best_subset\n",
    "\n",
    "best_subset = Full_Search(X_train, y_train, X_test, y_test)\n",
    "       \n",
    "print(\"Best subset: \", best_subset)"
   ]
  },
  {
   "cell_type": "code",
   "execution_count": null,
   "metadata": {},
   "outputs": [],
   "source": []
  }
 ],
 "metadata": {
  "kernelspec": {
   "display_name": "Python 3",
   "language": "python",
   "name": "python3"
  },
  "language_info": {
   "codemirror_mode": {
    "name": "ipython",
    "version": 3
   },
   "file_extension": ".py",
   "mimetype": "text/x-python",
   "name": "python",
   "nbconvert_exporter": "python",
   "pygments_lexer": "ipython3",
   "version": "3.6.4"
  }
 },
 "nbformat": 4,
 "nbformat_minor": 2
}
